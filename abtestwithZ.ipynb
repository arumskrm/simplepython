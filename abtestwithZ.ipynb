{
 "cells": [
  {
   "cell_type": "code",
   "execution_count": null,
   "id": "31267852",
   "metadata": {},
   "outputs": [],
   "source": [
    "def ab_manual(a,b, hyphotesis='two-sided'):\n",
    "    '''Calculate 2-Sample Z-test'''\n",
    "    from scipy.stats import norm\n",
    "    n_a=a.count()\n",
    "    n_b=b.count()\n",
    "    \n",
    "    mu_a=np.mean(a)\n",
    "    mu_b=np.mean(b)\n",
    "    var_a=np.var(a)\n",
    "    var_b=np.var(b)\n",
    "    \n",
    "    #Pooled Variance\n",
    "    pooled_var=((((n_a-1)*var_a)+((n_b-1)*var_b))/(n_a+n_b-2))*((1/n_a) +(1/n_b))\n",
    "    Z=(mu_a-mu_b)/np.sqrt(pooled_var)\n",
    "    \n",
    "    if hyphotesis == 'two-sided':\n",
    "        p_value=norm.sf(Z)*2\n",
    "    elif hyphotesis == 'larger' or hyphotesis == 'smaller':\n",
    "        p_value=norm.sf(Z)\n",
    "    else:\n",
    "        p_value='hyphotesis error! try: two-sided, larger, or smaller'\n",
    "    \n",
    "    return print(Z, p_value)"
   ]
  }
 ],
 "metadata": {
  "kernelspec": {
   "display_name": "Python [conda env:skripsi]",
   "language": "python",
   "name": "conda-env-skripsi-py"
  },
  "language_info": {
   "codemirror_mode": {
    "name": "ipython",
    "version": 3
   },
   "file_extension": ".py",
   "mimetype": "text/x-python",
   "name": "python",
   "nbconvert_exporter": "python",
   "pygments_lexer": "ipython3",
   "version": "3.7.11"
  }
 },
 "nbformat": 4,
 "nbformat_minor": 5
}
